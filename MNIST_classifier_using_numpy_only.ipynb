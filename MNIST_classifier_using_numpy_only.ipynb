{
  "nbformat": 4,
  "nbformat_minor": 0,
  "metadata": {
    "colab": {
      "provenance": [],
      "authorship_tag": "ABX9TyNFvf6aCgzNR4QeMqBR7z/o",
      "include_colab_link": true
    },
    "kernelspec": {
      "name": "python3",
      "display_name": "Python 3"
    },
    "language_info": {
      "name": "python"
    }
  },
  "cells": [
    {
      "cell_type": "markdown",
      "metadata": {
        "id": "view-in-github",
        "colab_type": "text"
      },
      "source": [
        "<a href=\"https://colab.research.google.com/github/ThatBenZhang/MNIST-classifier-from-scratch/blob/main/MNIST_classifier_using_numpy_only.ipynb\" target=\"_parent\"><img src=\"https://colab.research.google.com/assets/colab-badge.svg\" alt=\"Open In Colab\"/></a>"
      ]
    },
    {
      "cell_type": "code",
      "execution_count": 1,
      "metadata": {
        "id": "t7Zg-MRSWY87"
      },
      "outputs": [],
      "source": [
        "import numpy as np\n",
        "import pandas as pd\n",
        "import random\n",
        "from matplotlib import pyplot as plt"
      ]
    },
    {
      "cell_type": "code",
      "source": [
        "import os\n",
        "path = os.listdir(\"../content/sample_data\")\n",
        "print(path)"
      ],
      "metadata": {
        "colab": {
          "base_uri": "https://localhost:8080/"
        },
        "id": "4B70hlbJWpFw",
        "outputId": "a976cb75-1867-4c60-dc27-e457c8f27c75"
      },
      "execution_count": 10,
      "outputs": [
        {
          "output_type": "stream",
          "name": "stdout",
          "text": [
            "['README.md', 'anscombe.json', 'mnist_train_small.csv', 'california_housing_train.csv', 'california_housing_test.csv', 'mnist_test.csv']\n"
          ]
        }
      ]
    },
    {
      "cell_type": "code",
      "source": [
        "train = pd.read_csv('../content/sample_data/mnist_train_small.csv')\n",
        "test = pd.read_csv('../content/sample_data/mnist_test.csv')"
      ],
      "metadata": {
        "id": "JfwJ2SSSHrVX"
      },
      "execution_count": 15,
      "outputs": []
    },
    {
      "cell_type": "code",
      "source": [
        "# train[:, 1]\n",
        "# df.dtypes\n",
        "# train.shape"
      ],
      "metadata": {
        "id": "Bf8HYAuzKifM"
      },
      "execution_count": 42,
      "outputs": []
    },
    {
      "cell_type": "code",
      "source": [
        "# no 'label' column, instead using the 0x0 entry of the matrix as substitute, which is '6'\n",
        "ytr = train['6'].values\n",
        "xtr = train.drop(columns = ['6']).values / 255\n",
        "xtest = test.values / 255"
      ],
      "metadata": {
        "id": "hMAnATAmWrRn"
      },
      "execution_count": 45,
      "outputs": []
    },
    {
      "cell_type": "code",
      "source": [
        "fig, axes = plt.subplots(2,5, figsize=(12,5))\n",
        "axes = axes.flatten()\n",
        "idx = np.random.randint(0,19999,size=10)\n",
        "for i in range(10):\n",
        "    axes[i].imshow(xtr[idx[i],:].reshape(28,28), cmap='gray')\n",
        "    axes[i].axis('off') # hide the axes ticks\n",
        "    axes[i].set_title(str(int(ytr[idx[i]])), color= 'black', fontsize=25)\n",
        "plt.show()"
      ],
      "metadata": {
        "colab": {
          "base_uri": "https://localhost:8080/",
          "height": 307
        },
        "id": "MD1ej0ERMQ0O",
        "outputId": "2829f548-e407-4204-a8f6-a8aa58364e79"
      },
      "execution_count": 52,
      "outputs": [
        {
          "output_type": "display_data",
          "data": {
            "text/plain": [
              "<Figure size 1200x500 with 10 Axes>"
            ],
            "image/png": "[encoded data removed]"
          },
          "metadata": {}
        }
      ]
    },
    {
      "cell_type": "code",
      "source": [
        "def ReLU(Z):\n",
        "    return np.maximum(Z, 0)\n",
        "\n",
        "def Sig(Z):\n",
        "    return 1 / (1 + np.exp(-Z))\n",
        "\n",
        "def softmax(Z):\n",
        "    exp_Z = np.exp(Z)\n",
        "    sum_exp_Z = np.sum(exp_Z, axis=1, keepdims=True)\n",
        "    A = exp_Z / sum_exp_Z\n",
        "    return A"
      ],
      "metadata": {
        "id": "WKwTrOZpWtBX"
      },
      "execution_count": 53,
      "outputs": []
    },
    {
      "cell_type": "code",
      "source": [
        "print(xtr.shape, ytr.shape)"
      ],
      "metadata": {
        "id": "uMY42aYIWufO",
        "colab": {
          "base_uri": "https://localhost:8080/"
        },
        "outputId": "c516f5e9-40ed-425b-fa69-53c7fbc15cd0"
      },
      "execution_count": 61,
      "outputs": [
        {
          "output_type": "stream",
          "name": "stdout",
          "text": [
            "(19999, 784) (19999,)\n"
          ]
        }
      ]
    },
    {
      "cell_type": "code",
      "source": [
        "# np.random.seed(1127825)\n",
        "# K = 10\n",
        "# n = xtr.shape[1]\n",
        "# n_H = 256\n",
        "# W = [0.1*np.random.randn(n, n_H), 0.1*np.random.randn(n_H, K)]\n",
        "# b = [np.random.randn(n_H)]\n",
        "# atest = xtr\n",
        "# z1test = z1 = np.matmul(xtr, W[0])\n",
        "# a2test = ReLU(z1test)\n",
        "# z2test = np.matmul(z1test, W[1])\n",
        "# softmax(z2test)\n",
        "# one_hot_y_true = (ytr[:, np.newaxis] == np.arange(K))\n",
        "# one_hot_y_true.shape"
      ],
      "metadata": {
        "colab": {
          "base_uri": "https://localhost:8080/"
        },
        "id": "u7NhbtfTnP9O",
        "outputId": "3f014b41-e949-4f3f-fced-64403a3f86cf"
      },
      "execution_count": 68,
      "outputs": [
        {
          "output_type": "execute_result",
          "data": {
            "text/plain": [
              "(19999, 10)"
            ]
          },
          "metadata": {},
          "execution_count": 68
        }
      ]
    },
    {
      "cell_type": "code",
      "source": [
        "def forward_prop(X, W, b):\n",
        "  a1 = X # input layer (1) N x 784\n",
        "  z1 = np.matmul(a1, W[0]) + b[0] # input layer (1) -> hidden layer (2), N x 256\n",
        "  a2 = ReLU(z1) # hidden layer (2) activation N x 256\n",
        "  z2 = np.matmul(a2, W[1]) # hidden layer (2) -> output layer (3) N x K\n",
        "  # s = np.exp(z2)\n",
        "  # total = np.sum(s, axis=1).reshape(-1,1)\n",
        "  # sigma = s/total\n",
        "  A = softmax(z2)\n",
        "  return A, a1, a2, z1, z2 # A.shape = N x K\n",
        "  # return sigma # the output is a probability for each sample\n"
      ],
      "metadata": {
        "id": "mJwFSK_5WwFz"
      },
      "execution_count": 70,
      "outputs": []
    },
    {
      "cell_type": "code",
      "source": [
        "def loss(y_pred, x_pred):\n",
        "  global K\n",
        "  K = 10\n",
        "  # N = len(y_true)\n",
        "  one_hot_y_true = (ytr[:, np.newaxis] == np.arange(K)) # N x K matrix, boolean\n",
        "  loss_sample = (np.log(y_pred) * one_hot_y_true).sum(axis=1) # element-wise\n",
        "  return -np.mean(loss_sample)"
      ],
      "metadata": {
        "id": "3pBl6bPaXHAr"
      },
      "execution_count": 69,
      "outputs": []
    },
    {
      "cell_type": "code",
      "source": [
        "def ReLU_deriv(Z):\n",
        "    return Z > 0\n",
        "\n",
        "def Sig_deriv(Z):\n",
        "    return Sig(Z) * (1 - Sig(Z))\n",
        "\n",
        "# def one_hot(Y):\n",
        "#     one_hot_Y = np.zeros((Y.size, Y.max() + 1))\n",
        "#     one_hot_Y[np.arange(Y.size), Y] = 1\n",
        "#     one_hot_Y = one_hot_Y.T\n",
        "#     return one_hot_Y"
      ],
      "metadata": {
        "id": "mFG2cOZzXMXE"
      },
      "execution_count": null,
      "outputs": []
    },
    {
      "cell_type": "code",
      "source": [
        "def back_prop(X, Y, W, b, alpha):\n",
        "  K = 10\n",
        "  N = X.shape[0] # N = 784\n",
        "\n",
        "  one_hot_y_true = (ytr[:, np.newaxis] == np.arange(K)) # N x K\n",
        "  d2 = (softmax(z2) - one_hot_y_true) # N x K\n",
        "  dW1 = np.matmul(a2.T, d2) # output layer derivative to layer 2, n x K\n",
        "\n",
        "  d1 = np.matmul(d2, W[1].T) * ReLU_deriv(z1)\n",
        "  dW0 = np.matmul(a1.T, d1)\n",
        "\n",
        "  dW = [dW0 / N + alpha * W[0], dW1 / N + alpha * W[1]]\n",
        "  db = [np.mean(d1, axis = 0)]\n",
        "  return dW, db"
      ],
      "metadata": {
        "id": "2vTlxk1N26dl"
      },
      "execution_count": 72,
      "outputs": []
    },
    {
      "cell_type": "code",
      "source": [
        "def get_predictions(A):\n",
        "    return np.argmax(A, 0)\n",
        "\n",
        "def get_accuracy(predictions, Y):\n",
        "    print(predictions, Ytr)\n",
        "    return np.sum(predictions == Ytr) / Ytr.size"
      ],
      "metadata": {
        "id": "dUMnVKA2XYON"
      },
      "execution_count": 73,
      "outputs": []
    },
    {
      "cell_type": "code",
      "source": [
        "K = 10\n",
        "n = xtr.shape[1]\n",
        "n_H = 256\n",
        "W = [0.1*np.random.randn(n, n_H), 0.1*np.random.randn(n_H, K)]\n",
        "b = [np.random.randn(n_H)]\n",
        "def gradient_descent(X, Y, alpha, iterations):\n",
        "    for i in range(iterations):\n",
        "        a1, a2, z1, z2, A = forward_prop(X, W, b)\n",
        "        dW, db = back_prop(X, Y, W, b, alpha)\n",
        "        if i % 50 == 0:\n",
        "            print(\"Iteration: \", i)\n",
        "            predictions = get_predictions(A)\n",
        "            print(get_accuracy(predictions, Y))\n",
        "    return W, b\n",
        "\n",
        "W, b = gradient_descent(xtr, ytr, 0.1, 500)"
      ],
      "metadata": {
        "colab": {
          "base_uri": "https://localhost:8080/",
          "height": 292
        },
        "id": "6xccrsLhXaIY",
        "outputId": "3457f4a2-e7db-4b58-8f9e-d3e793806226"
      },
      "execution_count": 75,
      "outputs": [
        {
          "output_type": "error",
          "ename": "ValueError",
          "evalue": "too many values to unpack (expected 5)",
          "traceback": [
            "\u001b[0;31m---------------------------------------------------------------------------\u001b[0m",
            "\u001b[0;31mValueError\u001b[0m                                Traceback (most recent call last)",
            "\u001b[0;32m<ipython-input-75-ffc5de58963b>\u001b[0m in \u001b[0;36m<cell line: 16>\u001b[0;34m()\u001b[0m\n\u001b[1;32m     14\u001b[0m     \u001b[0;32mreturn\u001b[0m \u001b[0mW\u001b[0m\u001b[0;34m,\u001b[0m \u001b[0mb\u001b[0m\u001b[0;34m\u001b[0m\u001b[0;34m\u001b[0m\u001b[0m\n\u001b[1;32m     15\u001b[0m \u001b[0;34m\u001b[0m\u001b[0m\n\u001b[0;32m---> 16\u001b[0;31m \u001b[0mW\u001b[0m\u001b[0;34m,\u001b[0m \u001b[0mb\u001b[0m \u001b[0;34m=\u001b[0m \u001b[0mgradient_descent\u001b[0m\u001b[0;34m(\u001b[0m\u001b[0mxtr\u001b[0m\u001b[0;34m,\u001b[0m \u001b[0mytr\u001b[0m\u001b[0;34m,\u001b[0m \u001b[0;36m0.1\u001b[0m\u001b[0;34m,\u001b[0m \u001b[0;36m500\u001b[0m\u001b[0;34m)\u001b[0m\u001b[0;34m\u001b[0m\u001b[0;34m\u001b[0m\u001b[0m\n\u001b[0m",
            "\u001b[0;32m<ipython-input-75-ffc5de58963b>\u001b[0m in \u001b[0;36mgradient_descent\u001b[0;34m(X, Y, alpha, iterations)\u001b[0m\n\u001b[1;32m      6\u001b[0m \u001b[0;32mdef\u001b[0m \u001b[0mgradient_descent\u001b[0m\u001b[0;34m(\u001b[0m\u001b[0mX\u001b[0m\u001b[0;34m,\u001b[0m \u001b[0mY\u001b[0m\u001b[0;34m,\u001b[0m \u001b[0malpha\u001b[0m\u001b[0;34m,\u001b[0m \u001b[0miterations\u001b[0m\u001b[0;34m)\u001b[0m\u001b[0;34m:\u001b[0m\u001b[0;34m\u001b[0m\u001b[0;34m\u001b[0m\u001b[0m\n\u001b[1;32m      7\u001b[0m     \u001b[0;32mfor\u001b[0m \u001b[0mi\u001b[0m \u001b[0;32min\u001b[0m \u001b[0mrange\u001b[0m\u001b[0;34m(\u001b[0m\u001b[0miterations\u001b[0m\u001b[0;34m)\u001b[0m\u001b[0;34m:\u001b[0m\u001b[0;34m\u001b[0m\u001b[0;34m\u001b[0m\u001b[0m\n\u001b[0;32m----> 8\u001b[0;31m         \u001b[0ma1\u001b[0m\u001b[0;34m,\u001b[0m \u001b[0ma2\u001b[0m\u001b[0;34m,\u001b[0m \u001b[0mz1\u001b[0m\u001b[0;34m,\u001b[0m \u001b[0mz2\u001b[0m\u001b[0;34m,\u001b[0m \u001b[0mA\u001b[0m \u001b[0;34m=\u001b[0m \u001b[0mforward_prop\u001b[0m\u001b[0;34m(\u001b[0m\u001b[0mX\u001b[0m\u001b[0;34m,\u001b[0m \u001b[0mW\u001b[0m\u001b[0;34m,\u001b[0m \u001b[0mb\u001b[0m\u001b[0;34m)\u001b[0m\u001b[0;34m\u001b[0m\u001b[0;34m\u001b[0m\u001b[0m\n\u001b[0m\u001b[1;32m      9\u001b[0m         \u001b[0mdW\u001b[0m\u001b[0;34m,\u001b[0m \u001b[0mdb\u001b[0m \u001b[0;34m=\u001b[0m \u001b[0mback_prop\u001b[0m\u001b[0;34m(\u001b[0m\u001b[0mX\u001b[0m\u001b[0;34m,\u001b[0m \u001b[0mY\u001b[0m\u001b[0;34m,\u001b[0m \u001b[0mW\u001b[0m\u001b[0;34m,\u001b[0m \u001b[0mb\u001b[0m\u001b[0;34m,\u001b[0m \u001b[0malpha\u001b[0m\u001b[0;34m)\u001b[0m\u001b[0;34m\u001b[0m\u001b[0;34m\u001b[0m\u001b[0m\n\u001b[1;32m     10\u001b[0m         \u001b[0;32mif\u001b[0m \u001b[0mi\u001b[0m \u001b[0;34m%\u001b[0m \u001b[0;36m50\u001b[0m \u001b[0;34m==\u001b[0m \u001b[0;36m0\u001b[0m\u001b[0;34m:\u001b[0m\u001b[0;34m\u001b[0m\u001b[0;34m\u001b[0m\u001b[0m\n",
            "\u001b[0;31mValueError\u001b[0m: too many values to unpack (expected 5)"
          ]
        }
      ]
    },
    {
      "cell_type": "code",
      "source": [],
      "metadata": {
        "id": "LM50HCFIXbdj"
      },
      "execution_count": null,
      "outputs": []
    }
  ]
}